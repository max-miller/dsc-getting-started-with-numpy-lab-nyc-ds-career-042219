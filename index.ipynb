{
 "cells": [
  {
   "cell_type": "markdown",
   "metadata": {},
   "source": [
    "# Getting Started with NumPy - Lab"
   ]
  },
  {
   "cell_type": "markdown",
   "metadata": {},
   "source": [
    "## Introduction"
   ]
  },
  {
   "cell_type": "markdown",
   "metadata": {},
   "source": [
    "Now that we have introduced NumPy, let's put it to practice. In this lab, we are going to be creating arrays, performing operations on them, and returning new array all using the NumPy library. Let's get started!"
   ]
  },
  {
   "cell_type": "markdown",
   "metadata": {},
   "source": [
    "## Objectives\n",
    "\n",
    "You will be able to: \n",
    "\n",
    "* Understand how to initialize NumPy arrays from nested Python lists, and access elements using square brackets\n",
    "* Understand the shape attribute on NumPy arrays\n",
    "* Understand how to create arrays from scratch including np.zeros, np.ones, np.full\n",
    "* Learn to perform scalar and vector math  "
   ]
  },
  {
   "cell_type": "markdown",
   "metadata": {},
   "source": [
    "## Import NumPy under the standard alias"
   ]
  },
  {
   "cell_type": "code",
   "execution_count": 2,
   "metadata": {},
   "outputs": [],
   "source": [
    "import numpy as np"
   ]
  },
  {
   "cell_type": "markdown",
   "metadata": {},
   "source": [
    "## Generating Some Mock Data"
   ]
  },
  {
   "cell_type": "markdown",
   "metadata": {},
   "source": [
    "Create a NumPy Array for each of the following:\n",
    "    1. Using a range\n",
    "    2. Using a Python List\n",
    "    \n",
    "Below, create a list in Python that has 5 elements (i.e. [0,1,2,3,4]) and assign it to the variable `py_list`. \n",
    "\n",
    "Next, do the same, but instead of a list, create a range with 5 elements and assign it to the variable, `py_range`.\n",
    "\n",
    "Finally, use the list and range to create NumPy arrays and assign the array from list to the variable `array_from_list`, and the array from the range to the variable `array_from_range`."
   ]
  },
  {
   "cell_type": "code",
   "execution_count": 5,
   "metadata": {},
   "outputs": [
    {
     "name": "stdout",
     "output_type": "stream",
     "text": [
      "[0 1 2 3 4 5]\n",
      "[0 1 2 3 4 5]\n"
     ]
    }
   ],
   "source": [
    "py_list = [0,1,2,3,4,5]\n",
    "\n",
    "array_from_list = np.array(py_list)\n",
    "array_from_range = np.arange(6)\n",
    "\n",
    "print(array_from_list)\n",
    "print(array_from_range)"
   ]
  },
  {
   "cell_type": "markdown",
   "metadata": {},
   "source": [
    "Next, we have a list of heights and weights and we'd like to use them to create a collection of BMIs. However, they are both in inches and pounds (imperial system), respectively. \n",
    "\n",
    "Let's use what we know to create NumPy arrays with the metric equivalent values, (height in meters & weight in kg).\n",
    "\n",
    "> **Remember:** *NumPy can make these calculations a lot easier and with less code than a list!*"
   ]
  },
  {
   "cell_type": "markdown",
   "metadata": {},
   "source": [
    "> 1.0 inch = 0.0254 meters\n",
    "\n",
    "> 2.2046 lbs = 1 kilogram"
   ]
  },
  {
   "cell_type": "code",
   "execution_count": 10,
   "metadata": {},
   "outputs": [
    {
     "name": "stdout",
     "output_type": "stream",
     "text": [
      "[1.651  1.7272 1.8542 1.905  1.9812]\n"
     ]
    }
   ],
   "source": [
    "# use the conversion rate for turning height in inches to meters\n",
    "list_height_inches = [65, 68, 73, 75, 78]\n",
    "array_height_meters = np.array(list_height_inches) * .0254\n",
    "print(array_height_meters)\n"
   ]
  },
  {
   "cell_type": "code",
   "execution_count": 11,
   "metadata": {},
   "outputs": [
    {
     "name": "stdout",
     "output_type": "stream",
     "text": [
      "[ 68.03955366  63.50358342  99.79134537  92.98739    120.20321147]\n"
     ]
    }
   ],
   "source": [
    "# use the conversion rate for turning weight in pounds to kilograms\n",
    "list_weight_pounds = [150, 140, 220, 205, 265]\n",
    "\n",
    "array_weight_kg = np.array(list_weight_pounds)/2.2046\n",
    "print(array_weight_kg)"
   ]
  },
  {
   "cell_type": "markdown",
   "metadata": {},
   "source": [
    "The metric formula for calculating BMI is as follows:\n",
    "\n",
    "> BMI = weight (kg) ÷ height^2 (m^2)\n",
    "\n",
    "So, to get BMI we divide weight by the squared value of height. For example, if i weighed 130kg and was 1.9 meters tall, the calculation would look like:\n",
    "\n",
    "> BMI = 130 / (1.9*1.9)\n",
    "\n",
    "Use the BMI calculation to create a NumPy array of BMIs"
   ]
  },
  {
   "cell_type": "code",
   "execution_count": 12,
   "metadata": {},
   "outputs": [
    {
     "name": "stdout",
     "output_type": "stream",
     "text": [
      "[24.9613063  21.28692715 29.02550097 25.62324316 30.62382485]\n"
     ]
    }
   ],
   "source": [
    "bmi_array = array_weight_kg/(array_height_meters**2)\n",
    "print(bmi_array)"
   ]
  },
  {
   "cell_type": "markdown",
   "metadata": {},
   "source": [
    "## Create an identity vector using `np.ones()`"
   ]
  },
  {
   "cell_type": "code",
   "execution_count": 15,
   "metadata": {},
   "outputs": [],
   "source": [
    "ones = np.ones(5)"
   ]
  },
  {
   "cell_type": "markdown",
   "metadata": {},
   "source": [
    "## Multiply the BMI_array by your identity vector"
   ]
  },
  {
   "cell_type": "code",
   "execution_count": 16,
   "metadata": {},
   "outputs": [
    {
     "data": {
      "text/plain": [
       "array([24.9613063 , 21.28692715, 29.02550097, 25.62324316, 30.62382485])"
      ]
     },
     "execution_count": 16,
     "metadata": {},
     "output_type": "execute_result"
    }
   ],
   "source": [
    "bmi_array * ones"
   ]
  },
  {
   "cell_type": "markdown",
   "metadata": {},
   "source": [
    "## Level Up: Using NumPy to Parse a File\n",
    "The pandas library that we've been using is built on top of NumPy; all columns/series in a Pandas DataFrame are built using NumPy arrays. To get a better idea of a how a built in method like pd.read_csv() works, we'll try and recreate that here!"
   ]
  },
  {
   "cell_type": "code",
   "execution_count": 13,
   "metadata": {},
   "outputs": [
    {
     "name": "stdout",
     "output_type": "stream",
     "text": [
      "The file has 21 lines.\n"
     ]
    },
    {
     "data": {
      "text/plain": [
       "[((0, 0), 0.0),\n",
       " ((0, 1), 0.0),\n",
       " ((0, 2), 0.0),\n",
       " ((0, 3), 0.0),\n",
       " ((0, 4), 0.0),\n",
       " ((0, 5), 0.0),\n",
       " ((0, 6), 0.0),\n",
       " ((0, 7), 0.0),\n",
       " ((1, 0), 0.0),\n",
       " ((1, 1), 0.0),\n",
       " ((1, 2), 0.0),\n",
       " ((1, 3), 0.0),\n",
       " ((1, 4), 0.0),\n",
       " ((1, 5), 0.0),\n",
       " ((1, 6), 0.0),\n",
       " ((1, 7), 0.0),\n",
       " ((2, 0), 0.0),\n",
       " ((2, 1), 0.0),\n",
       " ((2, 2), 0.0),\n",
       " ((2, 3), 0.0),\n",
       " ((2, 4), 0.0),\n",
       " ((2, 5), 0.0),\n",
       " ((2, 6), 0.0),\n",
       " ((2, 7), 0.0),\n",
       " ((3, 0), 0.0),\n",
       " ((3, 1), 0.0),\n",
       " ((3, 2), 0.0),\n",
       " ((3, 3), 0.0),\n",
       " ((3, 4), 0.0),\n",
       " ((3, 5), 0.0),\n",
       " ((3, 6), 0.0),\n",
       " ((3, 7), 0.0),\n",
       " ((4, 0), 0.0),\n",
       " ((4, 1), 0.0),\n",
       " ((4, 2), 0.0),\n",
       " ((4, 3), 0.0),\n",
       " ((4, 4), 0.0),\n",
       " ((4, 5), 0.0),\n",
       " ((4, 6), 0.0),\n",
       " ((4, 7), 0.0),\n",
       " ((5, 0), 0.0),\n",
       " ((5, 1), 0.0),\n",
       " ((5, 2), 0.0),\n",
       " ((5, 3), 0.0),\n",
       " ((5, 4), 0.0),\n",
       " ((5, 5), 0.0),\n",
       " ((5, 6), 0.0),\n",
       " ((5, 7), 0.0),\n",
       " ((6, 0), 0.0),\n",
       " ((6, 1), 0.0),\n",
       " ((6, 2), 0.0),\n",
       " ((6, 3), 0.0),\n",
       " ((6, 4), 0.0),\n",
       " ((6, 5), 0.0),\n",
       " ((6, 6), 0.0),\n",
       " ((6, 7), 0.0),\n",
       " ((7, 0), 0.0),\n",
       " ((7, 1), 0.0),\n",
       " ((7, 2), 0.0),\n",
       " ((7, 3), 0.0),\n",
       " ((7, 4), 0.0),\n",
       " ((7, 5), 0.0),\n",
       " ((7, 6), 0.0),\n",
       " ((7, 7), 0.0),\n",
       " ((8, 0), 0.0),\n",
       " ((8, 1), 0.0),\n",
       " ((8, 2), 0.0),\n",
       " ((8, 3), 0.0),\n",
       " ((8, 4), 0.0),\n",
       " ((8, 5), 0.0),\n",
       " ((8, 6), 0.0),\n",
       " ((8, 7), 0.0),\n",
       " ((9, 0), 0.0),\n",
       " ((9, 1), 0.0),\n",
       " ((9, 2), 0.0),\n",
       " ((9, 3), 0.0),\n",
       " ((9, 4), 0.0),\n",
       " ((9, 5), 0.0),\n",
       " ((9, 6), 0.0),\n",
       " ((9, 7), 0.0),\n",
       " ((10, 0), 0.0),\n",
       " ((10, 1), 0.0),\n",
       " ((10, 2), 0.0),\n",
       " ((10, 3), 0.0),\n",
       " ((10, 4), 0.0),\n",
       " ((10, 5), 0.0),\n",
       " ((10, 6), 0.0),\n",
       " ((10, 7), 0.0),\n",
       " ((11, 0), 0.0),\n",
       " ((11, 1), 0.0),\n",
       " ((11, 2), 0.0),\n",
       " ((11, 3), 0.0),\n",
       " ((11, 4), 0.0),\n",
       " ((11, 5), 0.0),\n",
       " ((11, 6), 0.0),\n",
       " ((11, 7), 0.0),\n",
       " ((12, 0), 0.0),\n",
       " ((12, 1), 0.0),\n",
       " ((12, 2), 0.0),\n",
       " ((12, 3), 0.0),\n",
       " ((12, 4), 0.0),\n",
       " ((12, 5), 0.0),\n",
       " ((12, 6), 0.0),\n",
       " ((12, 7), 0.0),\n",
       " ((13, 0), 0.0),\n",
       " ((13, 1), 0.0),\n",
       " ((13, 2), 0.0),\n",
       " ((13, 3), 0.0),\n",
       " ((13, 4), 0.0),\n",
       " ((13, 5), 0.0),\n",
       " ((13, 6), 0.0),\n",
       " ((13, 7), 0.0),\n",
       " ((14, 0), 0.0),\n",
       " ((14, 1), 0.0),\n",
       " ((14, 2), 0.0),\n",
       " ((14, 3), 0.0),\n",
       " ((14, 4), 0.0),\n",
       " ((14, 5), 0.0),\n",
       " ((14, 6), 0.0),\n",
       " ((14, 7), 0.0),\n",
       " ((15, 0), 0.0),\n",
       " ((15, 1), 0.0),\n",
       " ((15, 2), 0.0),\n",
       " ((15, 3), 0.0),\n",
       " ((15, 4), 0.0),\n",
       " ((15, 5), 0.0),\n",
       " ((15, 6), 0.0),\n",
       " ((15, 7), 0.0),\n",
       " ((16, 0), 0.0),\n",
       " ((16, 1), 0.0),\n",
       " ((16, 2), 0.0),\n",
       " ((16, 3), 0.0),\n",
       " ((16, 4), 0.0),\n",
       " ((16, 5), 0.0),\n",
       " ((16, 6), 0.0),\n",
       " ((16, 7), 0.0),\n",
       " ((17, 0), 0.0),\n",
       " ((17, 1), 0.0),\n",
       " ((17, 2), 0.0),\n",
       " ((17, 3), 0.0),\n",
       " ((17, 4), 0.0),\n",
       " ((17, 5), 0.0),\n",
       " ((17, 6), 0.0),\n",
       " ((17, 7), 0.0),\n",
       " ((18, 0), 0.0),\n",
       " ((18, 1), 0.0),\n",
       " ((18, 2), 0.0),\n",
       " ((18, 3), 0.0),\n",
       " ((18, 4), 0.0),\n",
       " ((18, 5), 0.0),\n",
       " ((18, 6), 0.0),\n",
       " ((18, 7), 0.0),\n",
       " ((19, 0), 0.0),\n",
       " ((19, 1), 0.0),\n",
       " ((19, 2), 0.0),\n",
       " ((19, 3), 0.0),\n",
       " ((19, 4), 0.0),\n",
       " ((19, 5), 0.0),\n",
       " ((19, 6), 0.0),\n",
       " ((19, 7), 0.0),\n",
       " ((20, 0), 0.0),\n",
       " ((20, 1), 0.0),\n",
       " ((20, 2), 0.0),\n",
       " ((20, 3), 0.0),\n",
       " ((20, 4), 0.0),\n",
       " ((20, 5), 0.0),\n",
       " ((20, 6), 0.0),\n",
       " ((20, 7), 0.0)]"
      ]
     },
     "execution_count": 13,
     "metadata": {},
     "output_type": "execute_result"
    }
   ],
   "source": [
    "#Open a text file (csv files are just plaintext separated by commas)\n",
    "f = open('bp.txt')\n",
    "n_rows = len(f.readlines())\n",
    "print('The file has {} lines.'.format(n_rows)) #Print number of lines in the file\n",
    "f = open('bp.txt') #After using readlines, we must reopen the file\n",
    "n_cols = (len(f.readline().split('\\t'))) #The file has values separated by tabs; we read the first line and check it's length.\n",
    "\n",
    "f = open('bp.txt')\n",
    "\n",
    "final = np.zeros((n_rows,n_cols))\n",
    "\n",
    "data = []\n",
    "for line in f.readlines():\n",
    "    words = line.split('\\t')\n",
    "    for x in words:\n",
    "        data.append(x)\n",
    "index_list = list(np.ndenumerate(final))\n",
    "index_list\n",
    "#Your code here\n",
    "#Pseudocode outline below\n",
    "#1) Create a matrix of zeros that is the same size of the file\n",
    "#2) Iterate through the file: \"for line in f:\" Hint: using enumerate will also be required\n",
    "    #3) Update each row of the matrix with the new stream of data\n",
    "    #Hint: skip the first row (it's just column names, not the data.)\n",
    "#4) Preview your results; you should now have a NumPy matrix with the data from the file\n"
   ]
  },
  {
   "cell_type": "markdown",
   "metadata": {},
   "source": [
    "## Summary"
   ]
  },
  {
   "cell_type": "markdown",
   "metadata": {},
   "source": [
    "In this lab, we practiced creating NumPy arrays from both lists and ranges. We then practiced performing math operations like converting imperial measurements to metric measurements on each element of a NumPy array to create new arrays with new values. Finally, we used both of our new NumPy arrays to operate on each other and create new arrays containing the BMIs from our arrays containing heights and weights."
   ]
  }
 ],
 "metadata": {
  "kernelspec": {
   "display_name": "Python 3",
   "language": "python",
   "name": "python3"
  },
  "language_info": {
   "codemirror_mode": {
    "name": "ipython",
    "version": 3
   },
   "file_extension": ".py",
   "mimetype": "text/x-python",
   "name": "python",
   "nbconvert_exporter": "python",
   "pygments_lexer": "ipython3",
   "version": "3.6.6"
  }
 },
 "nbformat": 4,
 "nbformat_minor": 2
}
